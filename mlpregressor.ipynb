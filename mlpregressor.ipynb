{
 "cells": [
  {
   "cell_type": "code",
   "execution_count": null,
   "metadata": {},
   "outputs": [],
   "source": [
    "from data.config import data_config\n",
    "import pandas as pd\n",
    "import numpy as np\n",
    "from datamanager import DataManager\n",
    "# import shap\n",
    "from sklearn.preprocessing import StandardScaler\n",
    "from sklearn.metrics import mean_squared_error as mse, make_scorer\n",
    "import torch\n",
    "import torch.nn as nn\n",
    "\n",
    "\n",
    "pd.options.display.float_format = '{:.2f}'.format\n",
    "# shap.initjs()"
   ]
  },
  {
   "cell_type": "code",
   "execution_count": null,
   "metadata": {},
   "outputs": [],
   "source": [
    "dm_w_lags = DataManager(data_config=data_config, target_col=\"stator_winding\")\n",
    "dm_w_lags.featurize()\n",
    "X_train, y_train, X_val, y_val, X_test, y_test, _ = dm_w_lags.split_data(scale=True)\n"
   ]
  },
  {
   "cell_type": "code",
   "execution_count": null,
   "metadata": {},
   "outputs": [],
   "source": [
    "from sklearn.neural_network import MLPRegressor\n",
    "from sklearn.model_selection import train_test_split, GridSearchCV\n",
    "from sklearn.preprocessing import StandardScaler\n",
    "from sklearn.metrics import mean_squared_error, r2_score\n",
    "import numpy as np\n",
    "\n",
    "param_grid = {\n",
    "    'hidden_layer_sizes': (128, 64, 32),\n",
    "    'activation': 'relu',\n",
    "    'solver': 'adam',\n",
    "    'alpha': 0.001,\n",
    "    'learning_rate': 'adaptive',\n",
    "}\n",
    "\n",
    "# Create an instance of MLPRegressor\n",
    "mlp = MLPRegressor(max_iter=1000, early_stopping=True, random_state=42, batch_size='auto', verbose=True, **param_grid)\n",
    "mlp.fit(X_train, np.squeeze(y_train))\n",
    "\n"
   ]
  },
  {
   "cell_type": "code",
   "execution_count": null,
   "metadata": {},
   "outputs": [],
   "source": [
    "y_pred = mlp.predict(X_test)\n",
    "\n",
    "# Calculate evaluation metrics\n",
    "# best pm yet - 4.65                           5.46 - 'hidden_layer_sizes': (256, 128, 64),\n",
    "# best stator_yoke - 3.68 - (128, 64, 32)\n",
    "# best stator tooth - \n",
    "mse = mean_squared_error(y_test, y_pred)\n",
    "mse"
   ]
  },
  {
   "cell_type": "code",
   "execution_count": null,
   "metadata": {},
   "outputs": [],
   "source": [
    "import matplotlib.pyplot as plt\n",
    "plt.plot(mlp.loss_curve_)\n",
    "plt.xlabel(\"epochs\")\n",
    "plt.ylabel(\"MSE score\")\n",
    "plt.show()"
   ]
  },
  {
   "cell_type": "code",
   "execution_count": null,
   "metadata": {},
   "outputs": [],
   "source": [
    "import matplotlib.pyplot as plt\n",
    "plt.plot(range(len(y_test)), y_test, label=\"true\")\n",
    "plt.plot(y_pred, label=\"pred\")\n",
    "plt.legend()\n",
    "plt.show()"
   ]
  }
 ],
 "metadata": {
  "kernelspec": {
   "display_name": "emt",
   "language": "python",
   "name": "python3"
  },
  "language_info": {
   "codemirror_mode": {
    "name": "ipython",
    "version": 3
   },
   "file_extension": ".py",
   "mimetype": "text/x-python",
   "name": "python",
   "nbconvert_exporter": "python",
   "pygments_lexer": "ipython3",
   "version": "3.12.3"
  }
 },
 "nbformat": 4,
 "nbformat_minor": 2
}
